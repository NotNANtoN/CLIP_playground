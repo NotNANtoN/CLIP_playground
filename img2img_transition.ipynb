{
 "cells": [
  {
   "cell_type": "code",
   "execution_count": null,
   "id": "quick-princeton",
   "metadata": {},
   "outputs": [],
   "source": [
    "import os\n",
    "import sys\n",
    "import argparse\n",
    "import time\n",
    "\n",
    "import imageio\n",
    "import torch\n",
    "from tqdm.notebook import tqdm\n",
    "import torchvision.transforms as T\n",
    "from PIL import Image\n",
    "\n",
    "sys.path.append(\"../StyleCLIP_modular\")\n",
    "from style_clip import Imagine, create_text_path"
   ]
  },
  {
   "cell_type": "code",
   "execution_count": null,
   "id": "passive-orbit",
   "metadata": {},
   "outputs": [],
   "source": [
    "parser = argparse.ArgumentParser()\n",
    "parser.add_argument(\"--batch_size\", default=32, type=int)\n",
    "parser.add_argument(\"--gradient_accumulate_every\", default=1, type=int)\n",
    "parser.add_argument(\"--save_every\", default=1, type=int)\n",
    "parser.add_argument(\"--epochs\", default=1, type=int)\n",
    "parser.add_argument(\"--story_start_words\", default=5, type=int)\n",
    "parser.add_argument(\"--story_words_per_epoch\", default=5, type=int)\n",
    "parser.add_argument(\"--style\", default=\"../stylegan2-ada-pytorch/VisionaryArt.pkl\", type=str, choices=[\"faces (ffhq config-f)\", \"../stylegan2-ada-pytorch/VisionaryArt.pkl\"])\n",
    "parser.add_argument(\"--lr_schedule\", default=0, type=int)\n",
    "parser.add_argument(\"--start_image_steps\", default=1000, type=int)\n",
    "parser.add_argument(\"--iterations\", default=100, type=int)\n",
    "args = vars(parser.parse_args({}))\n",
    "\n",
    "args[\"opt_all_layers\"] = 1\n",
    "args[\"lr_schedule\"] = 1\n",
    "args[\"noise_opt\"] = 0\n",
    "args[\"reg_noise\"] = 0\n",
    "args[\"seed\"] = 1\n",
    "\n",
    "args[\"model_type\"] = \"vqgan\"\n",
    "args[\"iterations\"] = 200\n",
    "args[\"save_every\"] = 1\n",
    "args[\"start_img_loss_weight\"] = 0.0\n",
    "args[\"batch_size\"] = 16\n",
    "\n",
    "args[\"lr\"] = 0.1\n",
    "args[\"neg_text\"] = 'incoherent, confusing, cropped, watermarks'\n",
    "\n",
    "\n",
    "#run(img=\"base_images/aicpa_logo_black.jpg\", start_image_path=\"base_images/stance.jpg\", args=args)\n",
    "#run(img=\"base_images/aicpa_logo_black.jpg\", start_image_path=\"base_images/earth.jpg\", args=args)\n",
    "#run(img=\"base_images/earth.jpg\", start_image_path=\"base_images/aicpa_logo_black.jpg\", args=args)"
   ]
  },
  {
   "cell_type": "code",
   "execution_count": null,
   "id": "intermediate-correction",
   "metadata": {},
   "outputs": [],
   "source": [
    "net = \"conv\" # conv, vqgan\n",
    "args[\"sideX\"] = 720\n",
    "args[\"sideY\"] = 540\n",
    "args[\"start_image_steps\"] = 10\n",
    "args[\"iterations\"] = 100\n",
    "  \n",
    "\n",
    "if net == \"vqgan\":\n",
    "    args[\"model_type\"] = \"vqgan\"\n",
    "    args[\"lr\"] = 0.1\n",
    "    \n",
    "elif net == \"conv\":\n",
    "    args[\"model_type\"] = \"conv\"\n",
    "    args[\"act_func\"] = \"gelu\"\n",
    "    args[\"stride\"] = 1\n",
    "    args[\"num_layers\"] = 5\n",
    "    args[\"num_channels\"] = 64\n",
    "    args[\"downsample\"] = True\n",
    "    args[\"norm\"] = \"layer\"\n",
    "    args[\"lr\"] = 0.005 #0.005 * (args[\"sideX\"] * args[\"sideY\"] / 480 / 480)\n",
    "    args[\"num_channels\"] = 3\n"
   ]
  },
  {
   "cell_type": "code",
   "execution_count": null,
   "id": "amino-hierarchy",
   "metadata": {},
   "outputs": [],
   "source": [
    "imagine = Imagine(\n",
    "                save_progress=False,\n",
    "                open_folder=False,\n",
    "                save_video=False,\n",
    "                verbose=False,\n",
    "                **args\n",
    "               )"
   ]
  },
  {
   "cell_type": "code",
   "execution_count": null,
   "id": "laughing-testimony",
   "metadata": {},
   "outputs": [],
   "source": [
    "path_dict = {\"logo_black\": \"base_images/aicpa_logo_black.jpg\",\n",
    "        \"logo_purple\": \"base_images/aicpa_logo_purple.jpg\",\n",
    "        \"earth\": \"base_images/earth.jpg\",\n",
    "        \"stance\": \"base_images/stance.jpg\",\n",
    "        }\n",
    "latent_dict = {}\n",
    "\n",
    "for key in path_dict:\n",
    "    print(key)\n",
    "    path = path_dict[key]\n",
    "    if net == \"vqgan\":\n",
    "        img = Image.open(path).resize((512, 512))\n",
    "        x = T.ToTensor()(img).unsqueeze(0).to(imagine.device).mul(2).sub(1)\n",
    "        vqgan = imagine.model.model.model\n",
    "        z, _, [_, _, indices] = vqgan.encode(x)\n",
    "        latents = z\n",
    "    else:\n",
    "        imagine.start_image_path = path_dict[key]\n",
    "        imagine.reset()\n",
    "        img = imagine.prime_image()\n",
    "        latents = imagine.model.model.latents.detach().cpu()\n",
    "        imagine.start_image_path = None\n",
    "        imagine.start_image = None\n",
    "    latent_dict[key] = latents"
   ]
  },
  {
   "cell_type": "code",
   "execution_count": null,
   "id": "excess-athens",
   "metadata": {},
   "outputs": [],
   "source": [
    "text_dict = {\"pride\": \"LQBTQA pride.\",\n",
    "             \"rainbows\": \"Rainbows\", \n",
    "             \"rainbow_painting\": \"A painting of a rainbow.\",\n",
    "             \"night\": \"A starry night.\",\n",
    "             \"apocalypse\": \"Apocalypse\",\n",
    "             \"psych\": \"A psychedelic experience\",\n",
    "             \"death\": \"Death\"\n",
    "            }\n",
    "\n",
    "imagine.iterations = 500\n",
    "imagine.verbose = True\n",
    "latent_text_dict = {}\n",
    "for key in text_dict:\n",
    "    print(\"Optimizing for \", key)\n",
    "    text = text_dict[key]\n",
    "    imagine.reset()\n",
    "    imagine.set_clip_encoding(text=text)\n",
    "    imagine()\n",
    "    latents = imagine.model.model.get_latent(device=\"cpu\")\n",
    "    latent_text_dict[key] = latents\n",
    "imagine.verbose= False\n"
   ]
  },
  {
   "cell_type": "code",
   "execution_count": null,
   "id": "assumed-highlight",
   "metadata": {},
   "outputs": [],
   "source": [
    "to_pil = T.ToPILImage()\n",
    "\n",
    "def minmax(a):\n",
    "    return (a - a.min()) / (a.max() - a.min())\n",
    "\n",
    "def decode(imagine, latent):\n",
    "    model = imagine.model.model\n",
    "    orig_latents = model.get_latent()\n",
    "    imagine.set_latent(latent)\n",
    "    image = model(return_loss=False)\n",
    "    image = image.detach().cpu()\n",
    "    imagine.set_latent(orig_latents)\n",
    "\n",
    "    return image\n",
    "\n",
    "def gen(imagine, latent):\n",
    "    image = decode(imagine, latent).squeeze(0)\n",
    "    return to_pil(image)"
   ]
  },
  {
   "cell_type": "code",
   "execution_count": null,
   "id": "accessory-memphis",
   "metadata": {},
   "outputs": [],
   "source": [
    "img = gen(imagine, latent_text_dict[\"apocalypse\"])\n",
    "img"
   ]
  },
  {
   "cell_type": "code",
   "execution_count": null,
   "id": "hired-indication",
   "metadata": {},
   "outputs": [],
   "source": [
    "img = gen(imagine, latent_text_dict[\"pride\"])\n",
    "img"
   ]
  },
  {
   "cell_type": "code",
   "execution_count": null,
   "id": "precious-indie",
   "metadata": {},
   "outputs": [],
   "source": [
    "img = gen(imagine, latent_text_dict[\"night\"])\n",
    "img"
   ]
  },
  {
   "cell_type": "code",
   "execution_count": null,
   "id": "fatty-saver",
   "metadata": {},
   "outputs": [],
   "source": [
    "img = gen(imagine, latent_text_dict[\"rainbow_painting\"])\n",
    "img"
   ]
  },
  {
   "cell_type": "code",
   "execution_count": null,
   "id": "decimal-plasma",
   "metadata": {},
   "outputs": [],
   "source": [
    "key = \"rainbows\"\n",
    "#key = list(latent_text_dict.keys())[0]\n",
    "img = gen(imagine, latent_text_dict[key])\n",
    "import numpy as np\n",
    "arr = np.array(img)\n",
    "#print(arr.min(), arr.max())\n",
    "img"
   ]
  },
  {
   "cell_type": "code",
   "execution_count": null,
   "id": "adverse-benjamin",
   "metadata": {},
   "outputs": [],
   "source": [
    "key = \"psych\"\n",
    "#key = list(latent_text_dict.keys())[0]\n",
    "img = gen(imagine, latent_text_dict[key])\n",
    "import numpy as np\n",
    "arr = np.array(img)\n",
    "print(arr.min(), arr.max())\n",
    "img"
   ]
  },
  {
   "cell_type": "code",
   "execution_count": null,
   "id": "infrared-median",
   "metadata": {},
   "outputs": [],
   "source": [
    "print(latent_dict.keys())\n",
    "print(latent_text_dict.keys())"
   ]
  },
  {
   "cell_type": "code",
   "execution_count": null,
   "id": "strategic-ireland",
   "metadata": {},
   "outputs": [],
   "source": [
    "# earth, logo_black, logo_purple, stance\n",
    "prompt = \"apocalypse\"\n",
    "\n",
    "mode = \"translate_opt\" # transition, translate_opt\n",
    "latent = latent_dict[prompt] if prompt in latent_dict else latent_text_dict[prompt]\n",
    "\n",
    "if mode == \"transition\":\n",
    "    start = \"earth\"\n",
    "    end = \"logo_black\"\n",
    "    steps = 100\n",
    "    start_latent, end_latent = latent_dict[start], latent_dict[end]\n",
    "    # interpolate\n",
    "    # Obtain evenly-spaced ratios between 0 and 1\n",
    "    linspace = torch.linspace(0, 1, steps)\n",
    "    # Generate arrays for interpolation using ratios\n",
    "    latent_transition = [(1 - l) * start_latent + l * end_latent for l in linspace]\n",
    "elif mode == \"translate_opt\":\n",
    "    # how to make a loop:\n",
    "    \"\"\"\n",
    "    Looping technique is roughly the same as https://twitter.com/genekogan/status/918513720481009666\n",
    "\n",
    "    Notes how to have this whole thing looping:\n",
    "        Gist is to regenerate each frame in the loop N times, initializing it \n",
    "        from a mixture of the previous (t-1) and next (t+1) frame,\n",
    "        gradually interpolating from 100% t-1 to 100% t+1. A bit clunky, but it works.\n",
    "    \"\"\"\n",
    "    \n",
    "    total_steps = 500\n",
    "    pixel_step_size_x = 0\n",
    "    pixel_step_size_y = 0\n",
    "    opt_steps = 5\n",
    "    zoom_factor = 1.02 #0.9\n",
    "    #zoom_factor = 1#1.02\n",
    "    angle = 0\n",
    "    shear = 0\n",
    "    \n",
    "    translate_settings = f\"net-{net}_steps{total_steps}_move{pixel_step_size_x}-{pixel_step_size_y}_rot{angle}_zoom{zoom_factor}_optfor{opt_steps}\"\n",
    "    \n",
    "    # setup starting latent and goal\n",
    "    imagine.set_clip_encoding(text=prompt)#, img=path_dict[prompt], encoding=None)\n",
    "    imagine.set_latent(latent)\n",
    "    latent_transition = [latent]\n",
    "    from torchvision.transforms.functional import InterpolationMode\n",
    "    \n",
    "    for _ in tqdm(range(total_steps)):\n",
    "        # recreate img\n",
    "        if net == \"vqgan\":\n",
    "            img = decode(imagine, latent)\n",
    "        elif net == \"conv\":\n",
    "            img, params = imagine.model.model.get_latent(device=\"cpu\")\n",
    "        # transform it\n",
    "        transformed = T.functional.affine(img, angle=angle, \n",
    "                                          translate=(pixel_step_size_x, pixel_step_size_y), \n",
    "                                          scale=zoom_factor, \n",
    "                                          shear=shear,\n",
    "                                          interpolation=InterpolationMode.BILINEAR)\n",
    "       \n",
    "        if net == \"vqgan\":\n",
    "            # encode it again\n",
    "            latent, _, [_, _, indices] = vqgan.encode(transformed.to(imagine.device).mul(2).sub(1))\n",
    "        elif net == \"conv\":\n",
    "            latent = [transformed, params]\n",
    "            \n",
    "        # set latent in imagine properly such that it can be optimized by the optimzier\n",
    "        imagine.set_latent(latent)\n",
    "        \n",
    "        for _ in range(opt_steps):\n",
    "            imagine.train_step(0, 0)\n",
    "            \n",
    "        # get new latents\n",
    "        latent = imagine.model.model.get_latent() #.latents.detach().cpu()\n",
    "        # store latents\n",
    "        latent_transition.append(latent)"
   ]
  },
  {
   "cell_type": "code",
   "execution_count": null,
   "id": "municipal-viking",
   "metadata": {},
   "outputs": [],
   "source": [
    "# generate images from latents\n",
    "def gen_imgs(imagine, latents):\n",
    "    images = []\n",
    "    for latent in tqdm(latent_transition):\n",
    "        model = imagine.model.model\n",
    "        imagine.set_latent(latent)\n",
    "        image = model(return_loss=False)\n",
    "        image = image.detach().cpu().squeeze(0).permute(1, 2, 0).clamp(0, 1) * 255\n",
    "        image = image.type(torch.uint8).clamp(0, 255)\n",
    "        images.append(image)\n",
    "    return images\n",
    "images = gen_imgs(imagine, latents)"
   ]
  },
  {
   "cell_type": "code",
   "execution_count": null,
   "id": "super-coffee",
   "metadata": {},
   "outputs": [],
   "source": [
    "folder = mode\n",
    "os.makedirs(folder, exist_ok=1)\n",
    "\n",
    "time_str = time.strftime(\"%X_%x\", time.gmtime()).replace(\"/\", \"_\")\n",
    "path = os.path.join(folder, time_str + \"_\" + (f\"{start}_to_{end}_{steps}.mp4\" if mode == \"transition\" else f\"{prompt}_{translate_settings}.mp4\"))\n",
    "imageio.mimwrite(path, images)"
   ]
  },
  {
   "cell_type": "code",
   "execution_count": null,
   "id": "racial-trick",
   "metadata": {},
   "outputs": [],
   "source": [
    "len(latent_transition)"
   ]
  },
  {
   "cell_type": "code",
   "execution_count": null,
   "id": "driven-scanner",
   "metadata": {},
   "outputs": [],
   "source": [
    "len(latent_transition[0])"
   ]
  },
  {
   "cell_type": "code",
   "execution_count": null,
   "id": "heavy-airplane",
   "metadata": {},
   "outputs": [],
   "source": [
    "latent_transition[0][0].shape"
   ]
  },
  {
   "cell_type": "code",
   "execution_count": null,
   "id": "rational-comedy",
   "metadata": {},
   "outputs": [],
   "source": [
    "latent_transition[0][0]"
   ]
  },
  {
   "cell_type": "code",
   "execution_count": null,
   "id": "persistent-sensitivity",
   "metadata": {},
   "outputs": [],
   "source": [
    "latent_transition[-1][0]"
   ]
  },
  {
   "cell_type": "code",
   "execution_count": null,
   "id": "portable-accessory",
   "metadata": {},
   "outputs": [],
   "source": []
  }
 ],
 "metadata": {
  "kernelspec": {
   "display_name": "Python 3",
   "language": "python",
   "name": "python3"
  },
  "language_info": {
   "codemirror_mode": {
    "name": "ipython",
    "version": 3
   },
   "file_extension": ".py",
   "mimetype": "text/x-python",
   "name": "python",
   "nbconvert_exporter": "python",
   "pygments_lexer": "ipython3",
   "version": "3.8.5"
  },
  "toc-autonumbering": true
 },
 "nbformat": 4,
 "nbformat_minor": 5
}
